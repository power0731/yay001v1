{
 "cells": [
  {
   "cell_type": "code",
   "execution_count": null,
   "metadata": {},
   "outputs": [],
   "source": [
    "import yaylib\n",
    "from datetime import datetime, timedelta, timezone\n",
    "import ipywidgets as widgets\n",
    "from IPython.display import display, clear_output\n",
    "\n",
    "url_input = widgets.Text(value='', description='URL:')\n",
    "button = widgets.Button(description=\"Check Last Login\")\n",
    "output = widgets.Output()\n",
    "\n",
    "def on_button_clicked(b):\n",
    "    with output:\n",
    "        clear_output()\n",
    "        user_id = url_input.value.split(\"/\")[-1]\n",
    "        api = yaylib.Client()\n",
    "        unix_timestamp = api.get_user(user_id=user_id).last_logged_in_at\n",
    "        time_str = datetime.fromtimestamp(unix_timestamp, timezone(timedelta(hours=9))).strftime('%Y-%m-%d %H:%M:%S')\n",
    "        print(f\"最終ログイン時刻は {time_str}\")\n",
    "\n",
    "button.on_click(on_button_clicked)\n",
    "\n",
    "display(widgets.VBox([button, url_input, output]))\n"
   ]
  }
 ],
 "metadata": {
  "kernelspec": {
   "display_name": "Python 3",
   "language": "python",
   "name": "python3"
  },
  "language_info": {
   "name": "python",
   "version": "3.11.5"
  },
  "orig_nbformat": 4
 },
 "nbformat": 4,
 "nbformat_minor": 2
}

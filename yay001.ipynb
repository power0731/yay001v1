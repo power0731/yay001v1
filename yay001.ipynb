{
 "cells": [
  {
   "cell_type": "code",
   "execution_count": null,
   "metadata": {},
   "outputs": [],
   "source": [
    "import yaylib\n",
    "from datetime import datetime, timedelta, timezone\n",
    "import ipywidgets as widgets\n",
    "from IPython.display import display\n",
    "\n",
    "# Widgetの作成\n",
    "url_input = widgets.Text(\n",
    "    value='https://yay.space/user/1234567',\n",
    "    placeholder='Type something',\n",
    "    description='URL:',\n",
    "    disabled=False\n",
    ")\n",
    "\n",
    "# ボタンの作成\n",
    "button = widgets.Button(description=\"Check Last Login\")\n",
    "\n",
    "# 出力エリアの作成\n",
    "output = widgets.Output()\n",
    "\n",
    "# ボタンがクリックされた時のアクションを定義\n",
    "def on_button_clicked(b):\n",
    "    with output:\n",
    "        output.clear_output()  # 出力エリアをクリア\n",
    "        url = url_input.value  # URLを取得\n",
    "        user_id = url.split(\"/\")[-1]\n",
    "        \n",
    "        api = yaylib.Client()\n",
    "        unix_timestamp = api.get_user(user_id=user_id).last_logged_in_at\n",
    "        \n",
    "        # UTCからJST（UTC+9）に変換してフォーマットして出力\n",
    "        print(datetime.fromtimestamp(unix_timestamp, timezone(timedelta(hours=9))).strftime('%Y-%m-%d %H:%M:%S'))\n",
    "\n",
    "# ボタンがクリックされた時のアクションを設定\n",
    "button.on_click(on_button_clicked)\n",
    "\n",
    "# ウィジェットを表示\n",
    "display(url_input, button, output)\n"
   ]
  }
 ],
 "metadata": {
  "kernelspec": {
   "display_name": "Python 3",
   "language": "python",
   "name": "python3"
  },
  "language_info": {
   "name": "python",
   "version": "3.11.5"
  },
  "orig_nbformat": 4
 },
 "nbformat": 4,
 "nbformat_minor": 2
}
